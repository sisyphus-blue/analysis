{
 "cells": [
  {
   "cell_type": "code",
   "execution_count": 466,
   "metadata": {},
   "outputs": [],
   "source": [
    "import pandas as pd\n",
    "import numpy as np\n",
    "import matplotlib.pyplot as plt\n",
    "import seaborn as sns\n",
    "sns.set_style(\"darkgrid\")"
   ]
  },
  {
   "cell_type": "code",
   "execution_count": 467,
   "metadata": {},
   "outputs": [],
   "source": [
    "df1 = pd.read_excel('Amazon Inc.xlsx',sheet_name='Profit & loss account',header=None)\n",
    "\n",
    "df2 = pd.read_excel('Amazon Inc.xlsx',sheet_name='Balance sheet',header=None)\n",
    "\n",
    "df3 = pd.read_excel('Amazon Inc.xlsx',sheet_name='Cash flow statement',header=None)\n",
    "\n",
    "df4 = pd.read_excel('Amazon Inc.xlsx',sheet_name='Global ratios',header=None)"
   ]
  },
  {
   "cell_type": "code",
   "execution_count": 468,
   "metadata": {},
   "outputs": [
    {
     "data": {
      "text/html": [
       "<div>\n",
       "<style scoped>\n",
       "    .dataframe tbody tr th:only-of-type {\n",
       "        vertical-align: middle;\n",
       "    }\n",
       "\n",
       "    .dataframe tbody tr th {\n",
       "        vertical-align: top;\n",
       "    }\n",
       "\n",
       "    .dataframe thead th {\n",
       "        text-align: right;\n",
       "    }\n",
       "</style>\n",
       "<table border=\"1\" class=\"dataframe\">\n",
       "  <thead>\n",
       "    <tr style=\"text-align: right;\">\n",
       "      <th></th>\n",
       "    </tr>\n",
       "    <tr>\n",
       "      <th>4</th>\n",
       "    </tr>\n",
       "  </thead>\n",
       "  <tbody>\n",
       "    <tr>\n",
       "      <th>2019</th>\n",
       "    </tr>\n",
       "    <tr>\n",
       "      <th>2018</th>\n",
       "    </tr>\n",
       "    <tr>\n",
       "      <th>2017</th>\n",
       "    </tr>\n",
       "    <tr>\n",
       "      <th>2016</th>\n",
       "    </tr>\n",
       "    <tr>\n",
       "      <th>2015</th>\n",
       "    </tr>\n",
       "    <tr>\n",
       "      <th>2014</th>\n",
       "    </tr>\n",
       "    <tr>\n",
       "      <th>2013</th>\n",
       "    </tr>\n",
       "    <tr>\n",
       "      <th>2012</th>\n",
       "    </tr>\n",
       "    <tr>\n",
       "      <th>2011</th>\n",
       "    </tr>\n",
       "    <tr>\n",
       "      <th>2010</th>\n",
       "    </tr>\n",
       "  </tbody>\n",
       "</table>\n",
       "</div>"
      ],
      "text/plain": [
       "Empty DataFrame\n",
       "Columns: []\n",
       "Index: [2019, 2018, 2017, 2016, 2015, 2014, 2013, 2012, 2011, 2010]"
      ]
     },
     "execution_count": 468,
     "metadata": {},
     "output_type": "execute_result"
    }
   ],
   "source": [
    "result = pd.DataFrame(index=pd.to_datetime(df1.iloc[4,:].dropna()).dt.year)\n",
    "result"
   ]
  },
  {
   "cell_type": "code",
   "execution_count": 469,
   "metadata": {},
   "outputs": [],
   "source": [
    "a = df2[df2.iloc[:,0] == 'Current assets'].index\n",
    "b = df2[df2.iloc[:,0] == 'Current liabilities'].index\n",
    "\n",
    "c =df2.iloc[a,1:].astype(int).values/df2.iloc[b,1:].astype(int).values\n",
    "\n",
    "result['Working Capital Ratio'] = c.T"
   ]
  },
  {
   "cell_type": "code",
   "execution_count": 470,
   "metadata": {},
   "outputs": [],
   "source": [
    "d = df4[df4.iloc[:,0] == ' ∟ ROE using Net income (%)'].index\n",
    "e = df4.iloc[d,1:].astype(float).values\n",
    "\n",
    "result['ROE (Net Income)'] = e.T"
   ]
  },
  {
   "cell_type": "code",
   "execution_count": 471,
   "metadata": {},
   "outputs": [],
   "source": [
    "f = df1[df1.iloc[:,0] == ' ∟ EBITDA'].index\n",
    "g = df1.iloc[f,1:].astype(float).values\n",
    "\n",
    "result['EBITDA'] = g.T"
   ]
  },
  {
   "cell_type": "code",
   "execution_count": 472,
   "metadata": {},
   "outputs": [],
   "source": [
    "d = df4[df4.iloc[:,0] == ' ∟ Profit margin (%)'].index\n",
    "e = df4.iloc[d,1:].astype(float).values\n",
    "\n",
    "result['Profit Margin'] = e.T"
   ]
  },
  {
   "cell_type": "code",
   "execution_count": 476,
   "metadata": {},
   "outputs": [],
   "source": [
    "f = df1[df1.iloc[:,0] == ' ∟ Operating revenue (Turnover)'].index\n",
    "g = df1.iloc[f,1:].astype(float).values\n",
    "\n",
    "result['Operating Revenue'] = g.T"
   ]
  },
  {
   "cell_type": "code",
   "execution_count": 477,
   "metadata": {},
   "outputs": [
    {
     "ename": "SyntaxError",
     "evalue": "invalid syntax (<ipython-input-477-0cf815c98066>, line 1)",
     "output_type": "error",
     "traceback": [
      "\u001b[1;36m  File \u001b[1;32m\"<ipython-input-477-0cf815c98066>\"\u001b[1;36m, line \u001b[1;32m1\u001b[0m\n\u001b[1;33m    Revenue Growth Rate\u001b[0m\n\u001b[1;37m                 ^\u001b[0m\n\u001b[1;31mSyntaxError\u001b[0m\u001b[1;31m:\u001b[0m invalid syntax\n"
     ]
    }
   ],
   "source": [
    "Revenue Growth Rate"
   ]
  },
  {
   "cell_type": "code",
   "execution_count": 481,
   "metadata": {},
   "outputs": [
    {
     "data": {
      "text/html": [
       "<div>\n",
       "<style scoped>\n",
       "    .dataframe tbody tr th:only-of-type {\n",
       "        vertical-align: middle;\n",
       "    }\n",
       "\n",
       "    .dataframe tbody tr th {\n",
       "        vertical-align: top;\n",
       "    }\n",
       "\n",
       "    .dataframe thead th {\n",
       "        text-align: right;\n",
       "    }\n",
       "</style>\n",
       "<table border=\"1\" class=\"dataframe\">\n",
       "  <thead>\n",
       "    <tr style=\"text-align: right;\">\n",
       "      <th></th>\n",
       "      <th>Working Capital Ratio</th>\n",
       "      <th>ROE (Net Income)</th>\n",
       "      <th>EBITDA</th>\n",
       "      <th>Profit Margin</th>\n",
       "      <th>Operating Revenue</th>\n",
       "    </tr>\n",
       "    <tr>\n",
       "      <th>4</th>\n",
       "      <th></th>\n",
       "      <th></th>\n",
       "      <th></th>\n",
       "      <th></th>\n",
       "      <th></th>\n",
       "    </tr>\n",
       "  </thead>\n",
       "  <tbody>\n",
       "    <tr>\n",
       "      <th>2019</th>\n",
       "      <td>1.097048</td>\n",
       "      <td>18.672</td>\n",
       "      <td>30256000.0</td>\n",
       "      <td>4.982</td>\n",
       "      <td>280522000.0</td>\n",
       "    </tr>\n",
       "    <tr>\n",
       "      <th>2018</th>\n",
       "      <td>1.098112</td>\n",
       "      <td>23.130</td>\n",
       "      <td>25034000.0</td>\n",
       "      <td>4.835</td>\n",
       "      <td>232887000.0</td>\n",
       "    </tr>\n",
       "    <tr>\n",
       "      <th>2017</th>\n",
       "      <td>1.039977</td>\n",
       "      <td>10.946</td>\n",
       "      <td>13272000.0</td>\n",
       "      <td>2.140</td>\n",
       "      <td>177866000.0</td>\n",
       "    </tr>\n",
       "    <tr>\n",
       "      <th>2016</th>\n",
       "      <td>1.044847</td>\n",
       "      <td>12.295</td>\n",
       "      <td>10873000.0</td>\n",
       "      <td>2.862</td>\n",
       "      <td>135987000.0</td>\n",
       "    </tr>\n",
       "    <tr>\n",
       "      <th>2015</th>\n",
       "      <td>1.053649</td>\n",
       "      <td>4.453</td>\n",
       "      <td>7361000.0</td>\n",
       "      <td>1.465</td>\n",
       "      <td>107006000.0</td>\n",
       "    </tr>\n",
       "    <tr>\n",
       "      <th>2014</th>\n",
       "      <td>1.115276</td>\n",
       "      <td>-2.244</td>\n",
       "      <td>3959000.0</td>\n",
       "      <td>-0.125</td>\n",
       "      <td>88988000.0</td>\n",
       "    </tr>\n",
       "    <tr>\n",
       "      <th>2013</th>\n",
       "      <td>1.071584</td>\n",
       "      <td>2.811</td>\n",
       "      <td>3413000.0</td>\n",
       "      <td>0.680</td>\n",
       "      <td>74452000.0</td>\n",
       "    </tr>\n",
       "    <tr>\n",
       "      <th>2012</th>\n",
       "      <td>1.120724</td>\n",
       "      <td>-0.476</td>\n",
       "      <td>2539000.0</td>\n",
       "      <td>0.890</td>\n",
       "      <td>61093000.0</td>\n",
       "    </tr>\n",
       "    <tr>\n",
       "      <th>2011</th>\n",
       "      <td>1.174141</td>\n",
       "      <td>8.135</td>\n",
       "      <td>2011000.0</td>\n",
       "      <td>1.943</td>\n",
       "      <td>48077000.0</td>\n",
       "    </tr>\n",
       "    <tr>\n",
       "      <th>2010</th>\n",
       "      <td>1.325395</td>\n",
       "      <td>16.783</td>\n",
       "      <td>2063000.0</td>\n",
       "      <td>4.377</td>\n",
       "      <td>34204000.0</td>\n",
       "    </tr>\n",
       "  </tbody>\n",
       "</table>\n",
       "</div>"
      ],
      "text/plain": [
       "      Working Capital Ratio  ROE (Net Income)      EBITDA  Profit Margin  \\\n",
       "4                                                                          \n",
       "2019               1.097048            18.672  30256000.0          4.982   \n",
       "2018               1.098112            23.130  25034000.0          4.835   \n",
       "2017               1.039977            10.946  13272000.0          2.140   \n",
       "2016               1.044847            12.295  10873000.0          2.862   \n",
       "2015               1.053649             4.453   7361000.0          1.465   \n",
       "2014               1.115276            -2.244   3959000.0         -0.125   \n",
       "2013               1.071584             2.811   3413000.0          0.680   \n",
       "2012               1.120724            -0.476   2539000.0          0.890   \n",
       "2011               1.174141             8.135   2011000.0          1.943   \n",
       "2010               1.325395            16.783   2063000.0          4.377   \n",
       "\n",
       "      Operating Revenue  \n",
       "4                        \n",
       "2019        280522000.0  \n",
       "2018        232887000.0  \n",
       "2017        177866000.0  \n",
       "2016        135987000.0  \n",
       "2015        107006000.0  \n",
       "2014         88988000.0  \n",
       "2013         74452000.0  \n",
       "2012         61093000.0  \n",
       "2011         48077000.0  \n",
       "2010         34204000.0  "
      ]
     },
     "execution_count": 481,
     "metadata": {},
     "output_type": "execute_result"
    }
   ],
   "source": [
    "result"
   ]
  },
  {
   "cell_type": "code",
   "execution_count": 483,
   "metadata": {},
   "outputs": [
    {
     "data": {
      "text/plain": [
       "0.2045412582067698"
      ]
     },
     "execution_count": 483,
     "metadata": {},
     "output_type": "execute_result"
    }
   ],
   "source": [
    "(result.iloc[0,4] - result.iloc[1,4]) /result.iloc[1,4]"
   ]
  },
  {
   "cell_type": "code",
   "execution_count": 558,
   "metadata": {},
   "outputs": [],
   "source": [
    "x=[0.0]\n",
    "m=np.float(0)"
   ]
  },
  {
   "cell_type": "code",
   "execution_count": 559,
   "metadata": {},
   "outputs": [],
   "source": [
    "for i in range(0,len(result.index)-1):\n",
    "    m = ((result.iloc[i,4] - result.iloc[i+1,4]) /result.iloc[i+1,4]).astype(float)\n",
    "    x.append(m)"
   ]
  },
  {
   "cell_type": "code",
   "execution_count": 562,
   "metadata": {},
   "outputs": [],
   "source": [
    "se = pd.Series(x)"
   ]
  },
  {
   "cell_type": "code",
   "execution_count": 563,
   "metadata": {},
   "outputs": [],
   "source": [
    "result['Revenue Growth Rate'] = se.values"
   ]
  },
  {
   "cell_type": "code",
   "execution_count": 564,
   "metadata": {},
   "outputs": [
    {
     "data": {
      "text/html": [
       "<div>\n",
       "<style scoped>\n",
       "    .dataframe tbody tr th:only-of-type {\n",
       "        vertical-align: middle;\n",
       "    }\n",
       "\n",
       "    .dataframe tbody tr th {\n",
       "        vertical-align: top;\n",
       "    }\n",
       "\n",
       "    .dataframe thead th {\n",
       "        text-align: right;\n",
       "    }\n",
       "</style>\n",
       "<table border=\"1\" class=\"dataframe\">\n",
       "  <thead>\n",
       "    <tr style=\"text-align: right;\">\n",
       "      <th></th>\n",
       "      <th>Working Capital Ratio</th>\n",
       "      <th>ROE (Net Income)</th>\n",
       "      <th>EBITDA</th>\n",
       "      <th>Profit Margin</th>\n",
       "      <th>Operating Revenue</th>\n",
       "      <th>Revenue Growth Rate</th>\n",
       "    </tr>\n",
       "    <tr>\n",
       "      <th>4</th>\n",
       "      <th></th>\n",
       "      <th></th>\n",
       "      <th></th>\n",
       "      <th></th>\n",
       "      <th></th>\n",
       "      <th></th>\n",
       "    </tr>\n",
       "  </thead>\n",
       "  <tbody>\n",
       "    <tr>\n",
       "      <th>2019</th>\n",
       "      <td>1.097048</td>\n",
       "      <td>18.672</td>\n",
       "      <td>30256000.0</td>\n",
       "      <td>4.982</td>\n",
       "      <td>280522000.0</td>\n",
       "      <td>0.000000</td>\n",
       "    </tr>\n",
       "    <tr>\n",
       "      <th>2018</th>\n",
       "      <td>1.098112</td>\n",
       "      <td>23.130</td>\n",
       "      <td>25034000.0</td>\n",
       "      <td>4.835</td>\n",
       "      <td>232887000.0</td>\n",
       "      <td>0.204541</td>\n",
       "    </tr>\n",
       "    <tr>\n",
       "      <th>2017</th>\n",
       "      <td>1.039977</td>\n",
       "      <td>10.946</td>\n",
       "      <td>13272000.0</td>\n",
       "      <td>2.140</td>\n",
       "      <td>177866000.0</td>\n",
       "      <td>0.309340</td>\n",
       "    </tr>\n",
       "    <tr>\n",
       "      <th>2016</th>\n",
       "      <td>1.044847</td>\n",
       "      <td>12.295</td>\n",
       "      <td>10873000.0</td>\n",
       "      <td>2.862</td>\n",
       "      <td>135987000.0</td>\n",
       "      <td>0.307963</td>\n",
       "    </tr>\n",
       "    <tr>\n",
       "      <th>2015</th>\n",
       "      <td>1.053649</td>\n",
       "      <td>4.453</td>\n",
       "      <td>7361000.0</td>\n",
       "      <td>1.465</td>\n",
       "      <td>107006000.0</td>\n",
       "      <td>0.270835</td>\n",
       "    </tr>\n",
       "    <tr>\n",
       "      <th>2014</th>\n",
       "      <td>1.115276</td>\n",
       "      <td>-2.244</td>\n",
       "      <td>3959000.0</td>\n",
       "      <td>-0.125</td>\n",
       "      <td>88988000.0</td>\n",
       "      <td>0.202477</td>\n",
       "    </tr>\n",
       "    <tr>\n",
       "      <th>2013</th>\n",
       "      <td>1.071584</td>\n",
       "      <td>2.811</td>\n",
       "      <td>3413000.0</td>\n",
       "      <td>0.680</td>\n",
       "      <td>74452000.0</td>\n",
       "      <td>0.195240</td>\n",
       "    </tr>\n",
       "    <tr>\n",
       "      <th>2012</th>\n",
       "      <td>1.120724</td>\n",
       "      <td>-0.476</td>\n",
       "      <td>2539000.0</td>\n",
       "      <td>0.890</td>\n",
       "      <td>61093000.0</td>\n",
       "      <td>0.218667</td>\n",
       "    </tr>\n",
       "    <tr>\n",
       "      <th>2011</th>\n",
       "      <td>1.174141</td>\n",
       "      <td>8.135</td>\n",
       "      <td>2011000.0</td>\n",
       "      <td>1.943</td>\n",
       "      <td>48077000.0</td>\n",
       "      <td>0.270732</td>\n",
       "    </tr>\n",
       "    <tr>\n",
       "      <th>2010</th>\n",
       "      <td>1.325395</td>\n",
       "      <td>16.783</td>\n",
       "      <td>2063000.0</td>\n",
       "      <td>4.377</td>\n",
       "      <td>34204000.0</td>\n",
       "      <td>0.405596</td>\n",
       "    </tr>\n",
       "  </tbody>\n",
       "</table>\n",
       "</div>"
      ],
      "text/plain": [
       "      Working Capital Ratio  ROE (Net Income)      EBITDA  Profit Margin  \\\n",
       "4                                                                          \n",
       "2019               1.097048            18.672  30256000.0          4.982   \n",
       "2018               1.098112            23.130  25034000.0          4.835   \n",
       "2017               1.039977            10.946  13272000.0          2.140   \n",
       "2016               1.044847            12.295  10873000.0          2.862   \n",
       "2015               1.053649             4.453   7361000.0          1.465   \n",
       "2014               1.115276            -2.244   3959000.0         -0.125   \n",
       "2013               1.071584             2.811   3413000.0          0.680   \n",
       "2012               1.120724            -0.476   2539000.0          0.890   \n",
       "2011               1.174141             8.135   2011000.0          1.943   \n",
       "2010               1.325395            16.783   2063000.0          4.377   \n",
       "\n",
       "      Operating Revenue  Revenue Growth Rate  \n",
       "4                                             \n",
       "2019        280522000.0             0.000000  \n",
       "2018        232887000.0             0.204541  \n",
       "2017        177866000.0             0.309340  \n",
       "2016        135987000.0             0.307963  \n",
       "2015        107006000.0             0.270835  \n",
       "2014         88988000.0             0.202477  \n",
       "2013         74452000.0             0.195240  \n",
       "2012         61093000.0             0.218667  \n",
       "2011         48077000.0             0.270732  \n",
       "2010         34204000.0             0.405596  "
      ]
     },
     "execution_count": 564,
     "metadata": {},
     "output_type": "execute_result"
    }
   ],
   "source": [
    "result"
   ]
  },
  {
   "cell_type": "code",
   "execution_count": 566,
   "metadata": {},
   "outputs": [],
   "source": [
    "xl_file=pd.ExcelWriter(\"Amazon R.xlsx\")\n",
    "result.to_excel(xl_file,index=False)\n",
    "xl_file.save()"
   ]
  },
  {
   "cell_type": "code",
   "execution_count": null,
   "metadata": {},
   "outputs": [],
   "source": []
  }
 ],
 "metadata": {
  "kernelspec": {
   "display_name": "Python 3",
   "language": "python",
   "name": "python3"
  },
  "language_info": {
   "codemirror_mode": {
    "name": "ipython",
    "version": 3
   },
   "file_extension": ".py",
   "mimetype": "text/x-python",
   "name": "python",
   "nbconvert_exporter": "python",
   "pygments_lexer": "ipython3",
   "version": "3.7.3"
  }
 },
 "nbformat": 4,
 "nbformat_minor": 2
}
